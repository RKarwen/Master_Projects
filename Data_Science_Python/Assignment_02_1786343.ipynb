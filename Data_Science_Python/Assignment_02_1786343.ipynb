{
 "cells": [
  {
   "cell_type": "markdown",
   "id": "214eca09",
   "metadata": {},
   "source": [
    "## Aufgabe 2 Data Wrangling\n"
   ]
  },
  {
   "cell_type": "code",
   "execution_count": 1,
   "id": "2cb24402",
   "metadata": {},
   "outputs": [],
   "source": [
    "#Python uses pandas library to work with Data Sets and Data Frames\n",
    "import pandas as pd\n",
    "import os"
   ]
  },
  {
   "cell_type": "markdown",
   "id": "7b6c840c",
   "metadata": {},
   "source": [
    "Zunächst werden alle csv Dateien als DataFrame mit Pandas importiert."
   ]
  },
  {
   "cell_type": "code",
   "execution_count": 2,
   "id": "aedb7534",
   "metadata": {
    "scrolled": true
   },
   "outputs": [],
   "source": [
    "path = os.getcwd() \n",
    "path = path+\"\\\\Data\"\n",
    "\n",
    "customer = pd.read_excel(path+ \"\\\\Customer.xlsx\", names=[\"Customer_ID\", \"CFName\", \"CLName\", \"CPlace\", \"CZip\", \"CPhone\", \"COrder_ID\"])\n",
    "customer_order = pd.read_excel(path + \"\\\\CustomerOrder.xlsx\")\n",
    "food_truck = pd.read_excel(path + \"\\\\FoodTruck.xlsx\")\n",
    "food_truck_menu = pd.read_excel(path + \"\\\\FoodTruck_Menu.xlsx\",header= None, names=['FTItem_ID', 'FoodItem_Name', 'ItemSize_ID', 'Price'])\n",
    "item_size = pd.read_excel(path + \"\\\\ItemSize.xlsx\", header= None, names=['ItemSize_ID', 'ISizeType'])\n",
    "raw_material_order = pd.read_excel(path + \"\\\\RawMaterial_Order.xlsx\", header= None, names=['RawMaterial_ID', 'Product_type', 'PricePer_Item', 'Quantity'])\n",
    "supplier =  pd.read_excel(path + \"\\\\Supplier.xlsx\",header= None,  names=['Supplier_ID', 'Supplier_Name', 'ShippingDate', 'RawMaterial_ID'])\n"
   ]
  },
  {
   "cell_type": "markdown",
   "id": "594a0c6d",
   "metadata": {},
   "source": [
    "### Query 01\n",
    "Check if there are any empty or null values in the entire dataset. Dafür wird die Funktion isnull() zusammen mit sum() verwendet damit gleich die aufaddierten null values sichtbar werden."
   ]
  },
  {
   "cell_type": "code",
   "execution_count": 3,
   "id": "ea6ebe06",
   "metadata": {},
   "outputs": [
    {
     "data": {
      "text/plain": [
       "Customer_ID    0\n",
       "CFName         0\n",
       "CLName         0\n",
       "CPlace         0\n",
       "CZip           0\n",
       "CPhone         0\n",
       "COrder_ID      1\n",
       "dtype: int64"
      ]
     },
     "execution_count": 3,
     "metadata": {},
     "output_type": "execute_result"
    }
   ],
   "source": [
    "customer.isnull().sum()"
   ]
  },
  {
   "cell_type": "code",
   "execution_count": 4,
   "id": "d5d34bb4",
   "metadata": {},
   "outputs": [
    {
     "data": {
      "text/plain": [
       "COrder_ID    0\n",
       "Reviews      0\n",
       "FTItem_ID    0\n",
       "dtype: int64"
      ]
     },
     "execution_count": 4,
     "metadata": {},
     "output_type": "execute_result"
    }
   ],
   "source": [
    "customer_order.isnull().sum()"
   ]
  },
  {
   "cell_type": "code",
   "execution_count": 5,
   "id": "1ac99b99",
   "metadata": {},
   "outputs": [
    {
     "data": {
      "text/plain": [
       "Foodtruck_ID      0\n",
       "FT_Name           0\n",
       "FT_OpeningTime    0\n",
       "FTItem_ID         0\n",
       "COrder_ID         1\n",
       "RawMaterial_ID    0\n",
       "Supplier_ID       0\n",
       "dtype: int64"
      ]
     },
     "execution_count": 5,
     "metadata": {},
     "output_type": "execute_result"
    }
   ],
   "source": [
    "food_truck.isnull().sum()"
   ]
  },
  {
   "cell_type": "code",
   "execution_count": 6,
   "id": "ae379523",
   "metadata": {},
   "outputs": [
    {
     "data": {
      "text/plain": [
       "FTItem_ID        0\n",
       "FoodItem_Name    0\n",
       "ItemSize_ID      0\n",
       "Price            0\n",
       "dtype: int64"
      ]
     },
     "execution_count": 6,
     "metadata": {},
     "output_type": "execute_result"
    }
   ],
   "source": [
    "food_truck_menu.isnull().sum()"
   ]
  },
  {
   "cell_type": "code",
   "execution_count": 7,
   "id": "d47b14ca",
   "metadata": {},
   "outputs": [
    {
     "data": {
      "text/plain": [
       "ItemSize_ID    0\n",
       "ISizeType      0\n",
       "dtype: int64"
      ]
     },
     "execution_count": 7,
     "metadata": {},
     "output_type": "execute_result"
    }
   ],
   "source": [
    "item_size.isnull().sum()"
   ]
  },
  {
   "cell_type": "code",
   "execution_count": 8,
   "id": "8f24edc3",
   "metadata": {},
   "outputs": [
    {
     "data": {
      "text/plain": [
       "RawMaterial_ID    0\n",
       "Product_type      0\n",
       "PricePer_Item     0\n",
       "Quantity          0\n",
       "dtype: int64"
      ]
     },
     "execution_count": 8,
     "metadata": {},
     "output_type": "execute_result"
    }
   ],
   "source": [
    "raw_material_order.isnull().sum()"
   ]
  },
  {
   "cell_type": "code",
   "execution_count": 9,
   "id": "b48d917c",
   "metadata": {},
   "outputs": [
    {
     "data": {
      "text/plain": [
       "Supplier_ID       0\n",
       "Supplier_Name     0\n",
       "ShippingDate      0\n",
       "RawMaterial_ID    0\n",
       "dtype: int64"
      ]
     },
     "execution_count": 9,
     "metadata": {},
     "output_type": "execute_result"
    }
   ],
   "source": [
    "supplier.isnull().sum()"
   ]
  },
  {
   "cell_type": "markdown",
   "id": "2620d2f9",
   "metadata": {},
   "source": [
    "Nur in den Datensätzen für Customer und Food Truck sind null oder empty values vorhanden. Es wäre auch möglich gewesen df.info() auszuführen und dort die fehlenden Werte zu sehen, jeodh werden dabei mehr Informationen als benötigt angezeigt deswegen wurde sich für df.isnull().sum() entschieden. Hierbei sieht man auch die jweiligen Columns in welchen ein Null/Empty Value existiert."
   ]
  },
  {
   "cell_type": "markdown",
   "id": "24774b3b",
   "metadata": {},
   "source": [
    "### Query 02\n",
    "Show the Reviews of customers with their order ID(COrder_ID) and full name living in Hallstadt.\n",
    "\n",
    "Dafür wird die Funktion pd.merge verwendet, der CPlace Hallstadt gefiltert und auf der COrder_ID gejoint und danach die entsprechenden Felder ausgwählt. Es war ein left join damit alle Werte von Customer erhalten bleiben."
   ]
  },
  {
   "cell_type": "code",
   "execution_count": 10,
   "id": "ffb21500",
   "metadata": {},
   "outputs": [
    {
     "name": "stdout",
     "output_type": "stream",
     "text": [
      "                Reviews   CLName  COrder_ID\n",
      "0                  Good  Hethron    14729.0\n",
      "1                   Bad  Helliar    14761.0\n",
      "2        Very Delicious   Kelbie    14714.0\n",
      "3        Very Delicious  Hethron    14630.0\n",
      "4  Bad. Expired Product  Hethron    14622.0\n",
      "5                   NaN  Hethron        NaN\n"
     ]
    }
   ],
   "source": [
    "query2 = pd.merge(customer[customer.CPlace == \"Hallstadt\"], customer_order, on=\"COrder_ID\", how=\"left\")[['Reviews', \"CLName\", \"COrder_ID\"]]\n",
    "print(query2)"
   ]
  },
  {
   "cell_type": "markdown",
   "id": "f70158e2",
   "metadata": {},
   "source": [
    "Es sind 5 Reviews von Kunden aus Hallstadt zu finden."
   ]
  },
  {
   "cell_type": "markdown",
   "id": "8b762c0c",
   "metadata": {},
   "source": [
    "### Query 03\n",
    "Show all the customer details who ordered food. Arrange the columns of the resulting data frame in the following order: customer order ID, customer ID, customer's first name, family name, and then the rest of the columns.\n",
    "\n",
    "Dafür wird zunächst ein inner join verwendet um die Tabllen Customer und Food Truck zu joinen mithilfe der COrder_ID. Ein inner join da wir nur die Kunden brauchen die auch etwas beim Food Truck bestellt haben."
   ]
  },
  {
   "cell_type": "code",
   "execution_count": 11,
   "id": "9335ca73",
   "metadata": {},
   "outputs": [
    {
     "name": "stdout",
     "output_type": "stream",
     "text": [
      "   COrder_ID  Customer_ID   CFName   CLName     CPlace   CZip        CPhone  \\\n",
      "0    14729.0       220011     Phil  Hethron  Hallstadt  96103  571-733-3965   \n",
      "1    14755.0       220007     Arin    Robic   Gaustadt  96049  557-546-5920   \n",
      "2    14761.0       220001  Kaitlin  Helliar  Hallstadt  96103  101-736-1470   \n",
      "3    14797.0       220018  Shannon   Larose        Bug  96049  200-692-9627   \n",
      "4    14652.0       220009     Caty  Kohtler  Bischberg  96120  311-337-5892   \n",
      "\n",
      "   Foodtruck_ID      FT_Name FT_OpeningTime  FTItem_ID  RawMaterial_ID  \\\n",
      "0          2213         Oozz       11:30:00      22131               7   \n",
      "1          2213         Oozz       11:30:00      22132               7   \n",
      "2          2213         Oozz       11:30:00      22133               7   \n",
      "3          2208  Rimi Pizzas       12:00:00      22082              13   \n",
      "4          2208  Rimi Pizzas       12:00:00      22083              13   \n",
      "\n",
      "   Supplier_ID  \n",
      "0       230007  \n",
      "1       230007  \n",
      "2       230007  \n",
      "3       230006  \n",
      "4       230006  \n"
     ]
    }
   ],
   "source": [
    "query3 = pd.merge(customer, food_truck, on=\"COrder_ID\", how=\"inner\")\n",
    "cols =  list(query3.columns.values)\n",
    "query3new = query3[[cols[6]] + [cols[0]] + [cols[1]] + [cols[2]] + cols[3:6] + cols[7:]]\n",
    "print(query3new.head())"
   ]
  },
  {
   "cell_type": "markdown",
   "id": "02df24ad",
   "metadata": {},
   "source": [
    "### Query 04\n",
    "Update the phone number of Phil-Hethron from 571-733-3965 to 571-758-1964. </br>\n",
    "Dafür wird die loc Funktion verwendet, zunächst um zu überprüfen ob noch ein anderer Kunde diese Nummer hat und dann nocheinmal um sie zu ändern."
   ]
  },
  {
   "cell_type": "code",
   "execution_count": 12,
   "id": "c12ab84d",
   "metadata": {},
   "outputs": [
    {
     "name": "stdout",
     "output_type": "stream",
     "text": [
      "    Customer_ID CFName   CLName     CPlace   CZip        CPhone  COrder_ID\n",
      "0        220011   Phil  Hethron  Hallstadt  96103  571-758-1964    14729.0\n",
      "12       220011   Phil  Hethron  Hallstadt  96103  571-758-1964    14630.0\n",
      "15       220011   Phil  Hethron  Hallstadt  96103  571-758-1964    14622.0\n",
      "18       220011   Phil  Hethron  Hallstadt  96103  571-758-1964        NaN\n"
     ]
    }
   ],
   "source": [
    "\n",
    "customer.loc[(customer['CFName'] == 'Phil') & (customer['CLName'] == \"Hethron\"), \"CPhone\"] = \"571-758-1964\"\n",
    "\n",
    "print(customer.loc[(customer['CFName'] == 'Phil') & (customer['CLName'] == \"Hethron\")])"
   ]
  },
  {
   "cell_type": "markdown",
   "id": "349d856a",
   "metadata": {},
   "source": [
    "Die Telefonnummer wurde durch die Nutzung von loc geändert. Die beiden Filteroptionen wurden durch Klammern getrennt und durch das & Zeichen zusammengefügt. Danach wird die Spalte die geändert werden soll ausgwählt - in diesem Fall CPhone und zulezt der neue Werte eingetragen."
   ]
  },
  {
   "cell_type": "markdown",
   "id": "2af08771",
   "metadata": {},
   "source": [
    "### Query 05\n",
    "Show all the customers (CFName, CLNma, Customer_ID) with their order IDs (COrder_ID) who ordered\n",
    "medium-sized food."
   ]
  },
  {
   "cell_type": "code",
   "execution_count": 13,
   "id": "c5e16a7a",
   "metadata": {},
   "outputs": [
    {
     "data": {
      "text/html": [
       "<div>\n",
       "<style scoped>\n",
       "    .dataframe tbody tr th:only-of-type {\n",
       "        vertical-align: middle;\n",
       "    }\n",
       "\n",
       "    .dataframe tbody tr th {\n",
       "        vertical-align: top;\n",
       "    }\n",
       "\n",
       "    .dataframe thead th {\n",
       "        text-align: right;\n",
       "    }\n",
       "</style>\n",
       "<table border=\"1\" class=\"dataframe\">\n",
       "  <thead>\n",
       "    <tr style=\"text-align: right;\">\n",
       "      <th></th>\n",
       "      <th>CFName</th>\n",
       "      <th>CLName</th>\n",
       "      <th>Customer_ID</th>\n",
       "    </tr>\n",
       "  </thead>\n",
       "  <tbody>\n",
       "    <tr>\n",
       "      <th>9</th>\n",
       "      <td>Arin</td>\n",
       "      <td>Robic</td>\n",
       "      <td>220007</td>\n",
       "    </tr>\n",
       "    <tr>\n",
       "      <th>10</th>\n",
       "      <td>Kaitlin</td>\n",
       "      <td>Helliar</td>\n",
       "      <td>220001</td>\n",
       "    </tr>\n",
       "    <tr>\n",
       "      <th>11</th>\n",
       "      <td>Caty</td>\n",
       "      <td>Kohtler</td>\n",
       "      <td>220009</td>\n",
       "    </tr>\n",
       "    <tr>\n",
       "      <th>12</th>\n",
       "      <td>Clerc</td>\n",
       "      <td>Escoffier</td>\n",
       "      <td>220008</td>\n",
       "    </tr>\n",
       "    <tr>\n",
       "      <th>13</th>\n",
       "      <td>Terence</td>\n",
       "      <td>Goly</td>\n",
       "      <td>220005</td>\n",
       "    </tr>\n",
       "    <tr>\n",
       "      <th>14</th>\n",
       "      <td>Mandy</td>\n",
       "      <td>Binner</td>\n",
       "      <td>220019</td>\n",
       "    </tr>\n",
       "    <tr>\n",
       "      <th>17</th>\n",
       "      <td>Shannon</td>\n",
       "      <td>Larose</td>\n",
       "      <td>220018</td>\n",
       "    </tr>\n",
       "  </tbody>\n",
       "</table>\n",
       "</div>"
      ],
      "text/plain": [
       "     CFName     CLName  Customer_ID\n",
       "9      Arin      Robic       220007\n",
       "10  Kaitlin    Helliar       220001\n",
       "11     Caty    Kohtler       220009\n",
       "12    Clerc  Escoffier       220008\n",
       "13  Terence       Goly       220005\n",
       "14    Mandy     Binner       220019\n",
       "17  Shannon     Larose       220018"
      ]
     },
     "execution_count": 13,
     "metadata": {},
     "output_type": "execute_result"
    }
   ],
   "source": [
    "query5 = customer.merge(food_truck, on = \"COrder_ID\") \\\n",
    "        .merge(food_truck_menu, on = \"FTItem_ID\") \\\n",
    "        .merge(item_size, on =\"ItemSize_ID\")\n",
    "query5 = query5[query5['ISizeType'] == \"Medium\"]\n",
    "query5[['CFName', 'CLName', 'Customer_ID']].drop_duplicates(keep='first')"
   ]
  },
  {
   "cell_type": "markdown",
   "id": "847c84c1",
   "metadata": {},
   "source": [
    "Ingesamt gibt es 7 Kunden die Medium-Sized Gerichte bestellt haben. Um da Ergebnis zu erhalten wurden zuerst die Tabllen customer, food_truck, food_truck_menu und item_size miteinander verbunden. Somit wurde neben der Bestellung auch die Größe anzeigt nach welcher im zweiten Schritt dann gefiltert wurde. Zuletzt wurden noch die entsprechenden Spalten ausgewählt und Duplikate entfernt, da ein Kunde nicht dopplet genannt werden muss - es geht ja nur darum alle Kunden und nicht alle Bestellungen zu nenennen. "
   ]
  },
  {
   "cell_type": "markdown",
   "id": "86a2cefc",
   "metadata": {},
   "source": [
    "### Query 06\n",
    "Count the total amount that Caty paid for her orders."
   ]
  },
  {
   "cell_type": "code",
   "execution_count": 14,
   "id": "2d5fdc7d",
   "metadata": {},
   "outputs": [
    {
     "data": {
      "text/html": [
       "<div>\n",
       "<style scoped>\n",
       "    .dataframe tbody tr th:only-of-type {\n",
       "        vertical-align: middle;\n",
       "    }\n",
       "\n",
       "    .dataframe tbody tr th {\n",
       "        vertical-align: top;\n",
       "    }\n",
       "\n",
       "    .dataframe thead th {\n",
       "        text-align: right;\n",
       "    }\n",
       "</style>\n",
       "<table border=\"1\" class=\"dataframe\">\n",
       "  <thead>\n",
       "    <tr style=\"text-align: right;\">\n",
       "      <th></th>\n",
       "      <th>SumPrice</th>\n",
       "    </tr>\n",
       "    <tr>\n",
       "      <th>CFName</th>\n",
       "      <th></th>\n",
       "    </tr>\n",
       "  </thead>\n",
       "  <tbody>\n",
       "    <tr>\n",
       "      <th>Caty</th>\n",
       "      <td>26.0</td>\n",
       "    </tr>\n",
       "  </tbody>\n",
       "</table>\n",
       "</div>"
      ],
      "text/plain": [
       "        SumPrice\n",
       "CFName          \n",
       "Caty        26.0"
      ]
     },
     "execution_count": 14,
     "metadata": {},
     "output_type": "execute_result"
    }
   ],
   "source": [
    "query6 = customer.merge(food_truck, on = \"COrder_ID\") \\\n",
    "        .merge(food_truck_menu, on = \"FTItem_ID\")\n",
    "query6 = query6[query6['CFName'] == 'Caty']\n",
    "\n",
    "query6_grouped = query6.groupby('CFName').agg({'Price': 'sum'}).rename(columns={'Price' : 'SumPrice'})\n",
    "query6_grouped"
   ]
  },
  {
   "cell_type": "markdown",
   "id": "12c35a70",
   "metadata": {},
   "source": [
    "Zunächst wurde der customer, food_truck und food_truck_menu DataFrame verbunden und im zweiten Schritt wurde nach Caty gefilter.\n",
    "Um ihre aggregierte Summe an Ausgaben für Bestellungen zu bekommen wurde nach dem Namen gruppiert und danach der Preis aufsummiert. Zuletzt wurde noch der Name der Spalte angepasst damit er den Inhalt auch wiedergibt."
   ]
  },
  {
   "cell_type": "markdown",
   "id": "5d3f0aaf",
   "metadata": {},
   "source": [
    "### Query 07\n",
    "Fetch all the orders and their IDs complaining about expired products and show the supplier's name and\n",
    "supplier's ID for the same.\n",
    "HINT: The reviews of the customers should contain the word \"Expired\"."
   ]
  },
  {
   "cell_type": "code",
   "execution_count": 15,
   "id": "de2f83e2",
   "metadata": {},
   "outputs": [
    {
     "data": {
      "text/html": [
       "<div>\n",
       "<style scoped>\n",
       "    .dataframe tbody tr th:only-of-type {\n",
       "        vertical-align: middle;\n",
       "    }\n",
       "\n",
       "    .dataframe tbody tr th {\n",
       "        vertical-align: top;\n",
       "    }\n",
       "\n",
       "    .dataframe thead th {\n",
       "        text-align: right;\n",
       "    }\n",
       "</style>\n",
       "<table border=\"1\" class=\"dataframe\">\n",
       "  <thead>\n",
       "    <tr style=\"text-align: right;\">\n",
       "      <th></th>\n",
       "      <th>COrder_ID</th>\n",
       "      <th>Reviews</th>\n",
       "      <th>Supplier_Name</th>\n",
       "      <th>Supplier_ID</th>\n",
       "    </tr>\n",
       "  </thead>\n",
       "  <tbody>\n",
       "    <tr>\n",
       "      <th>4</th>\n",
       "      <td>14622</td>\n",
       "      <td>Bad. Expired Product</td>\n",
       "      <td>Moema</td>\n",
       "      <td>230007</td>\n",
       "    </tr>\n",
       "    <tr>\n",
       "      <th>30</th>\n",
       "      <td>14705</td>\n",
       "      <td>Bad. Expired Product</td>\n",
       "      <td>Flink</td>\n",
       "      <td>230013</td>\n",
       "    </tr>\n",
       "  </tbody>\n",
       "</table>\n",
       "</div>"
      ],
      "text/plain": [
       "    COrder_ID               Reviews Supplier_Name  Supplier_ID\n",
       "4       14622  Bad. Expired Product         Moema       230007\n",
       "30      14705  Bad. Expired Product         Flink       230013"
      ]
     },
     "execution_count": 15,
     "metadata": {},
     "output_type": "execute_result"
    }
   ],
   "source": [
    "query7 =  customer_order.merge(food_truck, on = \"COrder_ID\") \\\n",
    "        .merge(supplier, on = \"Supplier_ID\")\n",
    "query7 = query7[query7['Reviews'].str.contains(\"Expired\")]\n",
    "query7[['COrder_ID', 'Reviews', 'Supplier_Name', 'Supplier_ID']]"
   ]
  },
  {
   "cell_type": "markdown",
   "id": "fc6dd909",
   "metadata": {},
   "source": [
    "Zunächst wurden die customer_orders mit dem food_truck und supplier DatenFrame verbunden und danach die Reviews mti \"Expired\" in der Beschreibug herausgefiltert. Danach wurden noch die entsprechenden Spalten angezeigt."
   ]
  },
  {
   "cell_type": "markdown",
   "id": "fe6de321",
   "metadata": {},
   "source": [
    "### Query 08\n",
    "Show the id, the name, and the revenue made by each food.\n",
    "Note: Revenue refers to the total amount of income generated by the food trucks by selling their food\n",
    "items. Name the resulting column as “Revenue”."
   ]
  },
  {
   "cell_type": "code",
   "execution_count": 16,
   "id": "e1896018",
   "metadata": {},
   "outputs": [
    {
     "data": {
      "text/html": [
       "<div>\n",
       "<style scoped>\n",
       "    .dataframe tbody tr th:only-of-type {\n",
       "        vertical-align: middle;\n",
       "    }\n",
       "\n",
       "    .dataframe tbody tr th {\n",
       "        vertical-align: top;\n",
       "    }\n",
       "\n",
       "    .dataframe thead th {\n",
       "        text-align: right;\n",
       "    }\n",
       "</style>\n",
       "<table border=\"1\" class=\"dataframe\">\n",
       "  <thead>\n",
       "    <tr style=\"text-align: right;\">\n",
       "      <th></th>\n",
       "      <th></th>\n",
       "      <th>Revenue</th>\n",
       "    </tr>\n",
       "    <tr>\n",
       "      <th>FTItem_ID</th>\n",
       "      <th>FoodItem_Name</th>\n",
       "      <th></th>\n",
       "    </tr>\n",
       "  </thead>\n",
       "  <tbody>\n",
       "    <tr>\n",
       "      <th>22011</th>\n",
       "      <th>Vegetarian Pizza</th>\n",
       "      <td>8.0</td>\n",
       "    </tr>\n",
       "    <tr>\n",
       "      <th>22012</th>\n",
       "      <th>House Special Pizza</th>\n",
       "      <td>14.0</td>\n",
       "    </tr>\n",
       "    <tr>\n",
       "      <th>22052</th>\n",
       "      <th>Crunchy Chicken Taco</th>\n",
       "      <td>18.0</td>\n",
       "    </tr>\n",
       "    <tr>\n",
       "      <th>22053</th>\n",
       "      <th>Grilled schrimp Taco</th>\n",
       "      <td>8.0</td>\n",
       "    </tr>\n",
       "    <tr>\n",
       "      <th>22081</th>\n",
       "      <th>Cheese Pizza</th>\n",
       "      <td>7.5</td>\n",
       "    </tr>\n",
       "    <tr>\n",
       "      <th>22091</th>\n",
       "      <th>Checken Kebab Durum</th>\n",
       "      <td>8.5</td>\n",
       "    </tr>\n",
       "    <tr>\n",
       "      <th>22093</th>\n",
       "      <th>Black Pepper Kebab</th>\n",
       "      <td>9.5</td>\n",
       "    </tr>\n",
       "    <tr>\n",
       "      <th>22102</th>\n",
       "      <th>Donner with Tikka</th>\n",
       "      <td>8.5</td>\n",
       "    </tr>\n",
       "    <tr>\n",
       "      <th>22132</th>\n",
       "      <th>shawarma</th>\n",
       "      <td>6.0</td>\n",
       "    </tr>\n",
       "    <tr>\n",
       "      <th>22161</th>\n",
       "      <th>Whopper Burger Combo</th>\n",
       "      <td>23.0</td>\n",
       "    </tr>\n",
       "    <tr>\n",
       "      <th>22162</th>\n",
       "      <th>Bacon Lover Chicken Burger</th>\n",
       "      <td>8.5</td>\n",
       "    </tr>\n",
       "    <tr>\n",
       "      <th>22193</th>\n",
       "      <th>Burittos with Braised Pork</th>\n",
       "      <td>6.0</td>\n",
       "    </tr>\n",
       "    <tr>\n",
       "      <th>22201</th>\n",
       "      <th>Plain noodles in Soup</th>\n",
       "      <td>12.0</td>\n",
       "    </tr>\n",
       "    <tr>\n",
       "      <th>22203</th>\n",
       "      <th>Noodle With Soy Sauce Chicken</th>\n",
       "      <td>14.0</td>\n",
       "    </tr>\n",
       "  </tbody>\n",
       "</table>\n",
       "</div>"
      ],
      "text/plain": [
       "                                         Revenue\n",
       "FTItem_ID FoodItem_Name                         \n",
       "22011     Vegetarian Pizza                   8.0\n",
       "22012     House Special Pizza               14.0\n",
       "22052     Crunchy Chicken Taco              18.0\n",
       "22053     Grilled schrimp Taco               8.0\n",
       "22081     Cheese Pizza                       7.5\n",
       "22091     Checken Kebab Durum                8.5\n",
       "22093     Black Pepper Kebab                 9.5\n",
       "22102     Donner with Tikka                  8.5\n",
       "22132     shawarma                           6.0\n",
       "22161     Whopper Burger Combo              23.0\n",
       "22162     Bacon Lover Chicken Burger         8.5\n",
       "22193     Burittos with Braised Pork         6.0\n",
       "22201     Plain noodles in Soup             12.0\n",
       "22203     Noodle With Soy Sauce Chicken     14.0"
      ]
     },
     "execution_count": 16,
     "metadata": {},
     "output_type": "execute_result"
    }
   ],
   "source": [
    "query8 = customer_order.merge(food_truck_menu, on = \"FTItem_ID\")\n",
    "\n",
    "query8 = query8.groupby(['FTItem_ID', 'FoodItem_Name']).agg({'Price': 'sum'}).rename(columns={'Price' : 'Revenue'})\n",
    "query8"
   ]
  },
  {
   "cell_type": "markdown",
   "id": "d76ba96d",
   "metadata": {},
   "source": [
    "Zunächst wurde die customer_order tabelle mit der FoodTruck_Menu Tabelle verbunden damit alle Bestellungen mit den jeweiligen Preisen sichtbar sind. Danach wurde nach der Item_ID und dem Namen des Essens gruppiert um danach die Preise auszusummieren und somit die erzielten Revenue zu erhalten."
   ]
  },
  {
   "cell_type": "markdown",
   "id": "689fcc14",
   "metadata": {},
   "source": [
    "### Query 09\n",
    "Show the total Investment for each food truck with its ID and name.\n",
    "Note: Investment is the total amount of money spent by each food truck to buy the raw materials from\n",
    "the suppliers. Name the resulted column of your query “Investment”."
   ]
  },
  {
   "cell_type": "code",
   "execution_count": 17,
   "id": "d060c70a",
   "metadata": {},
   "outputs": [
    {
     "data": {
      "text/html": [
       "<div>\n",
       "<style scoped>\n",
       "    .dataframe tbody tr th:only-of-type {\n",
       "        vertical-align: middle;\n",
       "    }\n",
       "\n",
       "    .dataframe tbody tr th {\n",
       "        vertical-align: top;\n",
       "    }\n",
       "\n",
       "    .dataframe thead th {\n",
       "        text-align: right;\n",
       "    }\n",
       "</style>\n",
       "<table border=\"1\" class=\"dataframe\">\n",
       "  <thead>\n",
       "    <tr style=\"text-align: right;\">\n",
       "      <th></th>\n",
       "      <th></th>\n",
       "      <th>Investment</th>\n",
       "    </tr>\n",
       "    <tr>\n",
       "      <th>Foodtruck_ID</th>\n",
       "      <th>FT_Name</th>\n",
       "      <th></th>\n",
       "    </tr>\n",
       "  </thead>\n",
       "  <tbody>\n",
       "    <tr>\n",
       "      <th>2201</th>\n",
       "      <th>PizzeriaItalia</th>\n",
       "      <td>80.0</td>\n",
       "    </tr>\n",
       "    <tr>\n",
       "      <th>2202</th>\n",
       "      <th>CrispyBurger</th>\n",
       "      <td>72.4</td>\n",
       "    </tr>\n",
       "    <tr>\n",
       "      <th>2205</th>\n",
       "      <th>Vacos Tacos</th>\n",
       "      <td>80.0</td>\n",
       "    </tr>\n",
       "    <tr>\n",
       "      <th>2208</th>\n",
       "      <th>Rimi Pizzas</th>\n",
       "      <td>80.0</td>\n",
       "    </tr>\n",
       "    <tr>\n",
       "      <th>2209</th>\n",
       "      <th>Eatbridge</th>\n",
       "      <td>450.0</td>\n",
       "    </tr>\n",
       "    <tr>\n",
       "      <th>2210</th>\n",
       "      <th>Donner Kebab</th>\n",
       "      <td>150.0</td>\n",
       "    </tr>\n",
       "    <tr>\n",
       "      <th>2213</th>\n",
       "      <th>Oozz</th>\n",
       "      <td>450.0</td>\n",
       "    </tr>\n",
       "    <tr>\n",
       "      <th>2216</th>\n",
       "      <th>Blogtag</th>\n",
       "      <td>99.0</td>\n",
       "    </tr>\n",
       "    <tr>\n",
       "      <th>2219</th>\n",
       "      <th>Flipbug Donner</th>\n",
       "      <td>50.0</td>\n",
       "    </tr>\n",
       "    <tr>\n",
       "      <th>2220</th>\n",
       "      <th>Skynoodle</th>\n",
       "      <td>40.0</td>\n",
       "    </tr>\n",
       "  </tbody>\n",
       "</table>\n",
       "</div>"
      ],
      "text/plain": [
       "                             Investment\n",
       "Foodtruck_ID FT_Name                   \n",
       "2201         PizzeriaItalia        80.0\n",
       "2202         CrispyBurger          72.4\n",
       "2205         Vacos Tacos           80.0\n",
       "2208         Rimi Pizzas           80.0\n",
       "2209         Eatbridge            450.0\n",
       "2210         Donner Kebab         150.0\n",
       "2213         Oozz                 450.0\n",
       "2216         Blogtag               99.0\n",
       "2219         Flipbug Donner        50.0\n",
       "2220         Skynoodle             40.0"
      ]
     },
     "execution_count": 17,
     "metadata": {},
     "output_type": "execute_result"
    }
   ],
   "source": [
    "\n",
    "query9 = food_truck.merge(raw_material_order, on = \"RawMaterial_ID\")\n",
    "query9['total'] = query9['PricePer_Item'] * query9['Quantity']\n",
    "query9 = query9.groupby(['Foodtruck_ID', 'FT_Name']).agg({'total':'sum'}).rename(columns={'total':'Investment'})\n",
    "query9"
   ]
  },
  {
   "cell_type": "markdown",
   "id": "70341f17",
   "metadata": {},
   "source": [
    "Zuerst wurde die Food Truck Tabelle mit der Raw Material Order Tabelle verbunden. Danach wurde eine neue Spalte total Erstellt, welche die Quantity mit dem Price per Item multipliziert. Danach wurde nach der FoodTruckID und dem Namen gruppiert, total summiert und die Spalte umbenannt."
   ]
  },
  {
   "cell_type": "code",
   "execution_count": null,
   "id": "39fad9a2",
   "metadata": {},
   "outputs": [],
   "source": []
  }
 ],
 "metadata": {
  "kernelspec": {
   "display_name": "Python 3 (ipykernel)",
   "language": "python",
   "name": "python3"
  },
  "language_info": {
   "codemirror_mode": {
    "name": "ipython",
    "version": 3
   },
   "file_extension": ".py",
   "mimetype": "text/x-python",
   "name": "python",
   "nbconvert_exporter": "python",
   "pygments_lexer": "ipython3",
   "version": "3.9.7"
  }
 },
 "nbformat": 4,
 "nbformat_minor": 5
}
