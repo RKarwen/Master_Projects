{
 "cells": [
  {
   "cell_type": "markdown",
   "id": "78e94f61",
   "metadata": {},
   "source": [
    "# Python Basics"
   ]
  },
  {
   "cell_type": "markdown",
   "id": "b3f1a856",
   "metadata": {},
   "source": [
    "## 1. Python Variables"
   ]
  },
  {
   "cell_type": "markdown",
   "id": "659c3184",
   "metadata": {},
   "source": [
    "1.1 Assign the values “Max” and “Mustermann” to the variables “name” and “lastname” respectively.\n",
    "Print out the full name and let the printed text beginn with “My name is” but do this part not assign to\n",
    "a variable."
   ]
  },
  {
   "cell_type": "code",
   "execution_count": 2,
   "id": "44bd8245",
   "metadata": {},
   "outputs": [
    {
     "name": "stdout",
     "output_type": "stream",
     "text": [
      "My name is Max Mustermann\n"
     ]
    }
   ],
   "source": [
    "name = 'Max'\n",
    "lastname = 'Mustermann'\n",
    "\n",
    "print('My name is ' + name + \" \" +  lastname)"
   ]
  },
  {
   "cell_type": "markdown",
   "id": "584db607",
   "metadata": {},
   "source": [
    "1.2 Display the result of “14*5-9” math expression using the variables x,y, and z"
   ]
  },
  {
   "cell_type": "code",
   "execution_count": 3,
   "id": "639538b4",
   "metadata": {},
   "outputs": [
    {
     "name": "stdout",
     "output_type": "stream",
     "text": [
      "61\n"
     ]
    }
   ],
   "source": [
    "x = 14\n",
    "y = 5\n",
    "z = 9\n",
    "\n",
    "print(x*y-z)"
   ]
  },
  {
   "cell_type": "markdown",
   "id": "2b2b7fcd",
   "metadata": {},
   "source": [
    "## 2. Python Strings"
   ]
  },
  {
   "cell_type": "markdown",
   "id": "002c7d3a",
   "metadata": {},
   "source": [
    "2.1 Given the following string:\n",
    "text=\"Python is a programming language\"\n",
    "a) Add a second sentence to the variable text and separate the two sentences with a dot: “It\n",
    "doesn’t require semicolons”. Print the result\n",
    "b) Remove the spaces between the words."
   ]
  },
  {
   "cell_type": "code",
   "execution_count": 4,
   "id": "40be46c5",
   "metadata": {},
   "outputs": [
    {
     "name": "stdout",
     "output_type": "stream",
     "text": [
      "Python is a programming language. It doesn't require semicolons\n"
     ]
    }
   ],
   "source": [
    "text = \"Python is a programming language\"\n",
    "\n",
    "text = \"Python is a programming language\" + \". It doesn't require semicolons\"\n",
    "\n",
    "print(text)"
   ]
  },
  {
   "cell_type": "code",
   "execution_count": 6,
   "id": "763e7944",
   "metadata": {},
   "outputs": [
    {
     "name": "stdout",
     "output_type": "stream",
     "text": [
      "Pythonisaprogramminglanguage.Itdoesn'trequiresemicolons\n"
     ]
    }
   ],
   "source": [
    "text_no_spaces = text.replace(\" \", \"\")\n",
    "\n",
    "print(text_no_spaces)"
   ]
  },
  {
   "cell_type": "markdown",
   "id": "52635e16",
   "metadata": {},
   "source": [
    "2.2 Combine all of the variables below into the following string “I bought 2 black t-shirts for 10 euro”,\n",
    "using format() method and String Concatenation. Print it."
   ]
  },
  {
   "cell_type": "code",
   "execution_count": 9,
   "id": "6d0aae0f",
   "metadata": {},
   "outputs": [
    {
     "name": "stdout",
     "output_type": "stream",
     "text": [
      "I bought 2 black t-shirts for 10 euro\n"
     ]
    }
   ],
   "source": [
    "item = \"t-shirt\"\n",
    "price = 10\n",
    "amount = 2\n",
    "color = \"black\"\n",
    "currency =\"euro\"\n",
    "\n",
    "txt = 'I bought {} {} {}s for {} {}'.format(amount, color, item, price, currency)\n",
    "print(txt)"
   ]
  },
  {
   "cell_type": "markdown",
   "id": "d24401da",
   "metadata": {},
   "source": [
    "2.3 Split the following string into a list, where each word is a list item. Print it."
   ]
  },
  {
   "cell_type": "code",
   "execution_count": 12,
   "id": "83946323",
   "metadata": {},
   "outputs": [
    {
     "name": "stdout",
     "output_type": "stream",
     "text": [
      "['This', 'is', 'a', 'string', 'exercise']\n"
     ]
    }
   ],
   "source": [
    "text = \"This is a string exercise\"\n",
    "\n",
    "split_sentence = text2.split(' ')\n",
    "print(split_sentence)\n"
   ]
  },
  {
   "cell_type": "markdown",
   "id": "97aecd0b",
   "metadata": {},
   "source": [
    "2.4 Replace the first two occurrences of word \"cow\" with the word \"chicken\". Print the result"
   ]
  },
  {
   "cell_type": "code",
   "execution_count": 14,
   "id": "5745f856",
   "metadata": {},
   "outputs": [
    {
     "name": "stdout",
     "output_type": "stream",
     "text": [
      "The farmer has 2 black chickens, 3 white chickens, 2 brown cows, 4 pigs and 5 horses\n"
     ]
    }
   ],
   "source": [
    "farm = \"The farmer has 2 black cows, 3 white cows, 2 brown cows, 4 pigs and 5 horses\"\n",
    "farm = farm.replace(\"cow\", \"chicken\", 2)\n",
    "print(farm)"
   ]
  },
  {
   "cell_type": "markdown",
   "id": "a180f8d3",
   "metadata": {},
   "source": [
    "## 3. Python Lists, Sets, Tuples, Dictionaries"
   ]
  },
  {
   "cell_type": "markdown",
   "id": "74d75bed",
   "metadata": {},
   "source": [
    "3.1 With a list given:\n",
    "ShoppingList = [\"yoghurt\", \"milk\", \"eggs\"]\n",
    "a) Change “yoghurt” to “pudding”\n",
    "b) Add “juice” before “eggs”\n",
    "Print the resulting list"
   ]
  },
  {
   "cell_type": "code",
   "execution_count": 18,
   "id": "695a6e55",
   "metadata": {},
   "outputs": [
    {
     "name": "stdout",
     "output_type": "stream",
     "text": [
      "['pudding', 'milk', 'juice', 'eggs']\n"
     ]
    }
   ],
   "source": [
    "ShoppingList = [\"yoghurt\", \"milk\", \"eggs\"]\n",
    "\n",
    "ShoppingList[0] = \"pudding\"\n",
    "\n",
    "ShoppingList.insert(2, \"juice\")\n",
    "\n",
    "print(ShoppingList)"
   ]
  },
  {
   "cell_type": "markdown",
   "id": "2cdabf80",
   "metadata": {},
   "source": [
    "3.2 The following set is given. Remove the invalid item (skating) from the set and print it:\n",
    "SportsWithBall = {\"baseball\", \"skating\", \"tennis\", \"football\"}"
   ]
  },
  {
   "cell_type": "code",
   "execution_count": 19,
   "id": "ebee1fc9",
   "metadata": {},
   "outputs": [
    {
     "name": "stdout",
     "output_type": "stream",
     "text": [
      "{'football', 'baseball', 'tennis'}\n"
     ]
    }
   ],
   "source": [
    "SportsWithBall = {\"baseball\", \"skating\", \"tennis\", \"football\"}\n",
    "\n",
    "SportsWithBall.remove(\"skating\")\n",
    "\n",
    "print(SportsWithBall)"
   ]
  },
  {
   "cell_type": "markdown",
   "id": "be3fa619",
   "metadata": {},
   "source": [
    "3.3 The following tuple is given\n",
    "animals = (\"cat\", \"duck\", \"chicken\", \"turtle\")\n",
    "a) Unpack the tuple by animal type: mammal, bird, reptile\n",
    "b) Add \"pigeon\" to the tuple\n",
    "c) Remove \"chicken\" from the tuple\n",
    "Print it each time."
   ]
  },
  {
   "cell_type": "code",
   "execution_count": 21,
   "id": "071054d1",
   "metadata": {},
   "outputs": [
    {
     "name": "stdout",
     "output_type": "stream",
     "text": [
      "cat\n",
      "['duck', 'chicken']\n",
      "turtle\n"
     ]
    }
   ],
   "source": [
    "animals = (\"cat\", \"duck\", \"chicken\", \"turtle\")\n",
    "\n",
    "(mammal, *bird, reptile) = animals\n",
    "print(mammal)\n",
    "print(bird)\n",
    "print(reptile)"
   ]
  },
  {
   "cell_type": "markdown",
   "id": "c70dabdd",
   "metadata": {},
   "source": [
    "Da tuple nicht editierbar sind und keine Append oder Remove funktion haben muss ein Workaroud verwendet werden. ZUm hinzufügen wird zuächst das Tier auch als Tuple gespeichert und danach hinzugefügt."
   ]
  },
  {
   "cell_type": "code",
   "execution_count": 22,
   "id": "e40ed82d",
   "metadata": {},
   "outputs": [
    {
     "name": "stdout",
     "output_type": "stream",
     "text": [
      "('cat', 'duck', 'chicken', 'turtle', 'pigeon')\n"
     ]
    }
   ],
   "source": [
    "add = (\"pigeon\",)\n",
    "animals += add\n",
    "\n",
    "print(animals)"
   ]
  },
  {
   "cell_type": "markdown",
   "id": "078af998",
   "metadata": {},
   "source": [
    "Für das Löschen eines Elementes wird ein anderes Workaround verwendet. Zunächst wird das Tupel einer Variable zugeordnet und dann in eine Liste umegewandelt, das item wird gelöscht und danach wird die Liste wieder in ein Tupel umgewandelt und wieder animals zugewiesen."
   ]
  },
  {
   "cell_type": "code",
   "execution_count": null,
   "id": "6e5918f0",
   "metadata": {},
   "outputs": [],
   "source": [
    "y = list(animals)\n",
    "y.remove(\"chicken\")\n",
    "animals = tuple(y)"
   ]
  },
  {
   "cell_type": "markdown",
   "id": "acc1e68f",
   "metadata": {},
   "source": [
    "3.4 Create a dictionary, that contains following data and print it:\n",
    "Name of job: Barista\n",
    "Job type: Part-time\n",
    "Hours per week: 20\n",
    "Duties: coffee, desserts"
   ]
  },
  {
   "cell_type": "code",
   "execution_count": 23,
   "id": "f1392e98",
   "metadata": {},
   "outputs": [
    {
     "name": "stdout",
     "output_type": "stream",
     "text": [
      "{'Name of job': 'Barista', 'Job type': 'Part-time', 'Hours per week': 20, 'Duties': 'coffee, desserts'}\n"
     ]
    }
   ],
   "source": [
    "dict = {\n",
    "    \"Name of job\" : \"Barista\",\n",
    "    \"Job type\" : \"Part-time\",\n",
    "    \"Hours per week\" : 20,\n",
    "    \"Duties\" : \"coffee, desserts\"\n",
    "}\n",
    "print(dict)"
   ]
  },
  {
   "cell_type": "markdown",
   "id": "d9793935",
   "metadata": {},
   "source": [
    "3.5 There are four students sharing together an apartment.\n",
    "a) Create the nested dictionary “roommates”, containing this data:\n",
    "Name, age, major of each roommate.\n",
    "• Alice, 25, physics\n",
    "• Bob, 20, management\n",
    "• Eve, 23, linguistics\n",
    "• Mallory, 19, computer science\n",
    "b) Add a new person to the household (Trent, 29, literature)"
   ]
  },
  {
   "cell_type": "code",
   "execution_count": 25,
   "id": "dfeb056e",
   "metadata": {},
   "outputs": [
    {
     "name": "stdout",
     "output_type": "stream",
     "text": [
      "{'roommate1': {'name': 'Alice', 'age': 25, 'major': 'physics'}, 'roommate2': {'name': 'Bob', 'age': 20, 'major': 'management'}, 'roommate3': {'name': 'Mallory', 'age': 19, 'major': 'computer science'}, 'roommate4': {'name': 'Trent', 'age': 29, 'major': 'literature'}}\n"
     ]
    }
   ],
   "source": [
    "roommates = {\n",
    "    \"roommate1\" : {\n",
    "        \"name\" : \"Alice\",\n",
    "        \"age\": 25,\n",
    "        \"major\" : \"physics\"\n",
    "    },\n",
    "    \"roommate2\": {\n",
    "        \"name\" : \"Bob\",\n",
    "        \"age\": 20,\n",
    "        \"major\" : \"management\"\n",
    "    },\n",
    "    \"roommate3\": {\n",
    "        \"name\" : \"Mallory\",\n",
    "        \"age\": 19,\n",
    "        \"major\" : \"computer science\"\n",
    "    }\n",
    "}\n",
    "\n",
    "roommates[\"roommate4\"] = {\n",
    "        \"name\" : \"Trent\",\n",
    "        \"age\": 29,\n",
    "        \"major\" : \"literature\"\n",
    "}\n",
    "\n",
    "print(roommates)"
   ]
  },
  {
   "cell_type": "markdown",
   "id": "cf1caef2",
   "metadata": {},
   "source": [
    "## Python NumPy"
   ]
  },
  {
   "cell_type": "markdown",
   "id": "59b99f76",
   "metadata": {},
   "source": [
    "4.1 Perform the following tasks:\n",
    "a) Create a 3d array arr3D which consists of three 2D-Arrays, that contain 2 arrays with values 1,2\n",
    "and 3,4.\n",
    "b) Print out the first element of the second array which is stored in the third array."
   ]
  },
  {
   "cell_type": "code",
   "execution_count": 35,
   "id": "90770681",
   "metadata": {},
   "outputs": [
    {
     "name": "stdout",
     "output_type": "stream",
     "text": [
      "3\n"
     ]
    }
   ],
   "source": [
    "import numpy as np\n",
    "\n",
    "arr3D = np.array([[[1,2],[3,4]],[[1,2],[3,4]],[[1,2],[3,4]]])\n",
    "\n",
    "print(arr3D[2][1][0])"
   ]
  },
  {
   "cell_type": "markdown",
   "id": "c0997359",
   "metadata": {},
   "source": [
    "4.2 With 1D-Array given:\n",
    "arr = np.array([1, 2, 3, 4, 5, 6, 7, 8, 9, 10, 11, 12,13,14,15,16])\n",
    "change the shape of the array from 1-D to 3-D. Print the result"
   ]
  },
  {
   "cell_type": "code",
   "execution_count": 43,
   "id": "75b15638",
   "metadata": {},
   "outputs": [
    {
     "name": "stdout",
     "output_type": "stream",
     "text": [
      "[[[ 1  2]\n",
      "  [ 3  4]]\n",
      "\n",
      " [[ 5  6]\n",
      "  [ 7  8]]\n",
      "\n",
      " [[ 9 10]\n",
      "  [11 12]]\n",
      "\n",
      " [[13 14]\n",
      "  [15 16]]]\n",
      "3\n"
     ]
    }
   ],
   "source": [
    "arr = np.array([1, 2, 3, 4, 5, 6, 7, 8, 9, 10, 11, 12,13,14,15,16])\n",
    "\n",
    "newarr = arr.reshape(4,2,2)\n",
    "print(newarr)"
   ]
  },
  {
   "cell_type": "markdown",
   "id": "37a9633c",
   "metadata": {},
   "source": [
    "## 5. Python Pandas"
   ]
  },
  {
   "cell_type": "markdown",
   "id": "74201c42",
   "metadata": {},
   "source": [
    "5.1 Create a DataFrame from the \"roommates\" dictionary (see 3.5). Print out the DataFrame."
   ]
  },
  {
   "cell_type": "code",
   "execution_count": 48,
   "id": "396f3ed5",
   "metadata": {},
   "outputs": [
    {
     "name": "stdout",
     "output_type": "stream",
     "text": [
      "              name age             major\n",
      "roommate1    Alice  25           physics\n",
      "roommate2      Bob  20        management\n",
      "roommate3  Mallory  19  computer science\n",
      "roommate4    Trent  29        literature\n"
     ]
    }
   ],
   "source": [
    "import pandas as pd\n",
    "\n",
    "df = pd.DataFrame(roommates)\n",
    "df = df.transpose()\n",
    "print(df)"
   ]
  },
  {
   "cell_type": "markdown",
   "id": "77a0499d",
   "metadata": {},
   "source": [
    "5.2 Import the DataFrame from the sheet \"Students\" (students.xlsx) and print the last 10 rows."
   ]
  },
  {
   "cell_type": "code",
   "execution_count": 50,
   "id": "b78b9b2b",
   "metadata": {},
   "outputs": [
    {
     "name": "stdout",
     "output_type": "stream",
     "text": [
      "          name     land  year\n",
      "0   univesity1  Germany  1974\n",
      "1   univesity2    Italy  1980\n",
      "2   univesity3  Germany  1970\n",
      "3   univesity4   France  1971\n",
      "4   univesity5      USA  1861\n",
      "5   univesity6  Germany  1386\n",
      "6   univesity7  England  1209\n",
      "7   univesity8    Spain  1886\n",
      "8   univesity9   France  1530\n",
      "9  univesity10   Canada  1910\n"
     ]
    }
   ],
   "source": [
    "students = pd.read_excel(\"01_Assignment_PythonBasics_students.xlsx\")\n",
    "print(students.head(10))"
   ]
  },
  {
   "cell_type": "code",
   "execution_count": null,
   "id": "a67e70b2",
   "metadata": {},
   "outputs": [],
   "source": [
    "5.3 Import the students.csv file using Pandas and print out the DataFrame."
   ]
  },
  {
   "cell_type": "code",
   "execution_count": 52,
   "id": "870971c4",
   "metadata": {},
   "outputs": [
    {
     "name": "stdout",
     "output_type": "stream",
     "text": [
      "      name     sex  age                         major\n",
      "0    name1  female   20              computer science\n",
      "1    name2    male   20                     marketing\n",
      "2    name3    male   19                     economics\n",
      "3    name4  female   25                   linguistics\n",
      "4    name5  female   22                    literature\n",
      "5    name6    male   21         software engineering \n",
      "6    name7    male   30              computer science\n",
      "7    name8  female   24              computer science\n",
      "8    name9    male   20             political science\n",
      "9   name10  female   23                    management\n",
      "10  name11  female   21                    philosophy\n",
      "11  name13  female   22                     economics\n",
      "12  name13    male   26                       physics\n",
      "13  name14  female   20                     chemistry\n",
      "14  name15    male   25                      medicine\n",
      "15  name16  female   19  english and american studies\n",
      "16  name17  female   22                     geography\n",
      "17  name18    male   19                    management\n",
      "18  name19  female   27                      medicine\n",
      "19  name20    male   20                       history\n",
      "20  name21  female   22              computer science\n",
      "21  name22    male   21                    literature\n",
      "22  name23  female   23                    psychology\n",
      "23  name24  female   19              computer science\n",
      "24  name25    male   24                    psychology\n",
      "25  name26    male   22                     marketing\n",
      "26  name27  female   21                       biology\n",
      "27  name28    male   22                       physics\n",
      "28  name29    male   19                    psychology\n"
     ]
    }
   ],
   "source": [
    "students2 = pd.read_csv(\"01_Assignment_PythonBasics_students.csv\", sep = \";\")\n",
    "print(students2)"
   ]
  },
  {
   "cell_type": "code",
   "execution_count": null,
   "id": "67c857fb",
   "metadata": {},
   "outputs": [],
   "source": []
  }
 ],
 "metadata": {
  "kernelspec": {
   "display_name": "Python 3 (ipykernel)",
   "language": "python",
   "name": "python3"
  },
  "language_info": {
   "codemirror_mode": {
    "name": "ipython",
    "version": 3
   },
   "file_extension": ".py",
   "mimetype": "text/x-python",
   "name": "python",
   "nbconvert_exporter": "python",
   "pygments_lexer": "ipython3",
   "version": "3.9.7"
  }
 },
 "nbformat": 4,
 "nbformat_minor": 5
}
